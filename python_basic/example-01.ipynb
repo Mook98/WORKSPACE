{
 "cells": [
  {
   "cell_type": "code",
   "execution_count": 3,
   "metadata": {},
   "outputs": [
    {
     "name": "stdout",
     "output_type": "stream",
     "text": [
      "hello python !!!\n"
     ]
    }
   ],
   "source": [
    "print('hello python !!!')"
   ]
  },
  {
   "cell_type": "code",
   "execution_count": 8,
   "metadata": {},
   "outputs": [
    {
     "name": "stdout",
     "output_type": "stream",
     "text": [
      "[10, 30, 50, 70, 90]\n"
     ]
    }
   ],
   "source": [
    "numbers = [1, 2, 3, 4, 5, 6, 7, 8, 9, 10]\n",
    "\n",
    "numbers3 = [n * 10 for idx, n in enumerate(numbers) if idx % 2 == 0]\n",
    "print(numbers3)"
   ]
  },
  {
   "cell_type": "code",
   "execution_count": 2,
   "metadata": {},
   "outputs": [
    {
     "name": "stdout",
     "output_type": "stream",
     "text": [
      "[1, 2, 3, 4, 5, 6, 7, 8, 9, 10, 11, 12, 13, 14, 15, 16, 17, 18, 19, 20, 21, 22, 23, 24, 25, 26, 27, 28, 29, 30, 31, 32, 33, 34, 35, 36, 37, 38, 39, 40, 41, 42, 43, 44, 45]\n"
     ]
    }
   ],
   "source": [
    "import random\n",
    "number = list(range(1, 46))\n"
   ]
  },
  {
   "cell_type": "code",
   "execution_count": 33,
   "metadata": {},
   "outputs": [
    {
     "name": "stdout",
     "output_type": "stream",
     "text": [
      "True\n",
      "False\n"
     ]
    }
   ],
   "source": [
    "a = [1, 2, 3, 4, 5]\n",
    "print(1 in a)\n",
    "print(1 not in a)\n"
   ]
  },
  {
   "cell_type": "code",
   "execution_count": 63,
   "metadata": {},
   "outputs": [
    {
     "name": "stdout",
     "output_type": "stream",
     "text": [
      "[39, 16, 20, 13, 36, 24]\n"
     ]
    }
   ],
   "source": [
    "numbers = []\n",
    "while True:\n",
    "    num = random.randint(1, 46)\n",
    "    if num not in numbers:\n",
    "        numbers.append(num)\n",
    "    else:\n",
    "        numbers = []\n",
    "\n",
    "    if len(numbers) == 6:\n",
    "        break\n",
    "\n",
    "print(numbers)\n"
   ]
  },
  {
   "cell_type": "code",
   "execution_count": 81,
   "metadata": {},
   "outputs": [
    {
     "name": "stdout",
     "output_type": "stream",
     "text": [
      "[3, 20, 22, 23, 37, 46] 25\n"
     ]
    }
   ],
   "source": [
    "import random\n",
    "\n",
    "numbers = [] #뽑은 번호를 저장할 리스트 변수\n",
    "while True:\n",
    "    while True:\n",
    "        num = random.randint(1, 46) # 1 ~ 45\n",
    "        if num not in numbers:\n",
    "            numbers.append(num)\n",
    "\n",
    "        if len(numbers) == 6:\n",
    "            break\n",
    "\n",
    "    mean = sum(numbers) // len(numbers)\n",
    "    if mean >= 20 and mean <= 26:\n",
    "        break\n",
    "\n",
    "    numbers = [] # 다시 뽑기 위해 초기화\n",
    "\n",
    "numbers.sort()\n",
    "print(numbers, mean)"
   ]
  },
  {
   "cell_type": "code",
   "execution_count": 82,
   "metadata": {},
   "outputs": [],
   "source": [
    "import random\n",
    "def select_basic_numbers():\n",
    "    numbers = []\n",
    "    while True:\n",
    "        num = random.randint(1, 46) # 1 ~ 45\n",
    "        if num not in numbers:\n",
    "            numbers.append(num)\n",
    "\n",
    "        if len(numbers) == 6:\n",
    "            break\n",
    "\n",
    "    return numbers    "
   ]
  },
  {
   "cell_type": "code",
   "execution_count": 83,
   "metadata": {},
   "outputs": [
    {
     "name": "stdout",
     "output_type": "stream",
     "text": [
      "[1, 14, 17, 27, 43, 46] 24\n"
     ]
    }
   ],
   "source": [
    "import random\n",
    "\n",
    "numbers = None\n",
    "while True:\n",
    "    numbers = select_basic_numbers()\n",
    "\n",
    "    mean = sum(numbers) // len(numbers)\n",
    "    if mean >= 20 and mean <= 26:\n",
    "        break\n",
    "\n",
    "numbers.sort()\n",
    "print(numbers, mean)"
   ]
  },
  {
   "cell_type": "code",
   "execution_count": null,
   "metadata": {},
   "outputs": [],
   "source": []
  }
 ],
 "metadata": {
  "kernelspec": {
   "display_name": "human-da-env",
   "language": "python",
   "name": "python3"
  },
  "language_info": {
   "codemirror_mode": {
    "name": "ipython",
    "version": 3
   },
   "file_extension": ".py",
   "mimetype": "text/x-python",
   "name": "python",
   "nbconvert_exporter": "python",
   "pygments_lexer": "ipython3",
   "version": "3.12.7"
  }
 },
 "nbformat": 4,
 "nbformat_minor": 2
}

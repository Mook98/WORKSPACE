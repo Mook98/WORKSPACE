{
 "cells": [
  {
   "cell_type": "code",
   "execution_count": 13,
   "metadata": {},
   "outputs": [
    {
     "name": "stderr",
     "output_type": "stream",
     "text": [
      "<>:2: SyntaxWarning: invalid escape sequence '\\W'\n",
      "<>:2: SyntaxWarning: invalid escape sequence '\\W'\n",
      "C:\\Users\\human\\AppData\\Local\\Temp\\ipykernel_7460\\280838770.py:2: SyntaxWarning: invalid escape sequence '\\W'\n",
      "  iris_list = pd.read_csv('C:\\WORKSPACE\\db\\data-files\\iris.data', header=None)\n"
     ]
    }
   ],
   "source": [
    "import pandas as pd\n",
    "iris_list = pd.read_csv('C:\\WORKSPACE\\db\\data-files\\iris.data', header=None)"
   ]
  },
  {
   "cell_type": "code",
   "execution_count": 25,
   "metadata": {},
   "outputs": [
    {
     "name": "stdout",
     "output_type": "stream",
     "text": [
      "       0    1    2    3               4\n",
      "0    5.1  3.5  1.4  0.2     Iris-setosa\n",
      "1    4.9  3.0  1.4  0.2     Iris-setosa\n",
      "2    4.7  3.2  1.3  0.2     Iris-setosa\n",
      "3    4.6  3.1  1.5  0.2     Iris-setosa\n",
      "4    5.0  3.6  1.4  0.2     Iris-setosa\n",
      "..   ...  ...  ...  ...             ...\n",
      "145  6.7  3.0  5.2  2.3  Iris-virginica\n",
      "146  6.3  2.5  5.0  1.9  Iris-virginica\n",
      "147  6.5  3.0  5.2  2.0  Iris-virginica\n",
      "148  6.2  3.4  5.4  2.3  Iris-virginica\n",
      "149  5.9  3.0  5.1  1.8  Iris-virginica\n",
      "\n",
      "[150 rows x 5 columns]\n",
      "<class 'pandas.core.frame.DataFrame'>\n",
      "RangeIndex: 150 entries, 0 to 149\n",
      "Data columns (total 5 columns):\n",
      " #   Column  Non-Null Count  Dtype  \n",
      "---  ------  --------------  -----  \n",
      " 0   0       150 non-null    float64\n",
      " 1   1       150 non-null    float64\n",
      " 2   2       150 non-null    float64\n",
      " 3   3       150 non-null    float64\n",
      " 4   4       150 non-null    object \n",
      "dtypes: float64(4), object(1)\n",
      "memory usage: 6.0+ KB\n"
     ]
    }
   ],
   "source": [
    "print(iris_list)\n",
    "iris_list.info()"
   ]
  },
  {
   "cell_type": "code",
   "execution_count": 6,
   "metadata": {},
   "outputs": [],
   "source": [
    "import pymysql"
   ]
  },
  {
   "cell_type": "code",
   "execution_count": 7,
   "metadata": {},
   "outputs": [],
   "source": [
    "conn = pymysql.connect(host=\"127.0.0.1\", port=3306, db=\"bookstore\",\n",
    "                       user=\"humanda\", passwd=\"humanda\")"
   ]
  },
  {
   "cell_type": "code",
   "execution_count": 8,
   "metadata": {},
   "outputs": [],
   "source": [
    "cursor = conn.cursor()"
   ]
  },
  {
   "cell_type": "code",
   "execution_count": null,
   "metadata": {},
   "outputs": [],
   "source": [
    "sql = \"\"\"\n",
    "    create table iris\n",
    "    (\n",
    "        ID INT AUTO_INCREMENT PRIMARY KEY,\n",
    "        sepal_length float,\n",
    "        sepal_width float,\n",
    "        petal_length float,\n",
    "        petal_width float,\n",
    "        class varchar(20)\n",
    "    )\n",
    "    \"\"\"\n",
    "cursor.execute(sql)"
   ]
  },
  {
   "cell_type": "code",
   "execution_count": 45,
   "metadata": {},
   "outputs": [],
   "source": [
    "sql2 = \"insert into iris (sepal_length, sepal_width, petal_length, petal_width, class) values (%s, %s, %s, %s, %s)\"\n",
    "for index, row in iris_list.iterrows():\n",
    "    # cursor.execute(sql2, (row[0], row[1], row[2], row[3], row[4]))\n",
    "    cursor.execute(sql2, row.values.tolist())"
   ]
  },
  {
   "cell_type": "code",
   "execution_count": 46,
   "metadata": {},
   "outputs": [],
   "source": [
    "conn.commit()"
   ]
  },
  {
   "cell_type": "code",
   "execution_count": 55,
   "metadata": {},
   "outputs": [
    {
     "data": {
      "text/plain": [
       "200"
      ]
     },
     "execution_count": 55,
     "metadata": {},
     "output_type": "execute_result"
    }
   ],
   "source": [
    "sql3 = \"select * from iris where class like %s\"\n",
    "cursor.execute(sql3, '%{0}%'.format('setosa'))"
   ]
  },
  {
   "cell_type": "code",
   "execution_count": 56,
   "metadata": {},
   "outputs": [],
   "source": [
    "data = cursor.fetchall()"
   ]
  },
  {
   "cell_type": "code",
   "execution_count": 57,
   "metadata": {},
   "outputs": [
    {
     "name": "stdout",
     "output_type": "stream",
     "text": [
      "(1, 5.1, 3.5, 1.4, 0.2, 'Iris-setosa')\n",
      "(2, 4.9, 3.0, 1.4, 0.2, 'Iris-setosa')\n",
      "(3, 4.7, 3.2, 1.3, 0.2, 'Iris-setosa')\n",
      "(4, 4.6, 3.1, 1.5, 0.2, 'Iris-setosa')\n",
      "(5, 5.0, 3.6, 1.4, 0.2, 'Iris-setosa')\n",
      "(6, 5.4, 3.9, 1.7, 0.4, 'Iris-setosa')\n",
      "(7, 4.6, 3.4, 1.4, 0.3, 'Iris-setosa')\n",
      "(8, 5.0, 3.4, 1.5, 0.2, 'Iris-setosa')\n",
      "(9, 4.4, 2.9, 1.4, 0.2, 'Iris-setosa')\n",
      "(10, 4.9, 3.1, 1.5, 0.1, 'Iris-setosa')\n",
      "(11, 5.4, 3.7, 1.5, 0.2, 'Iris-setosa')\n",
      "(12, 4.8, 3.4, 1.6, 0.2, 'Iris-setosa')\n",
      "(13, 4.8, 3.0, 1.4, 0.1, 'Iris-setosa')\n",
      "(14, 4.3, 3.0, 1.1, 0.1, 'Iris-setosa')\n",
      "(15, 5.8, 4.0, 1.2, 0.2, 'Iris-setosa')\n",
      "(16, 5.7, 4.4, 1.5, 0.4, 'Iris-setosa')\n",
      "(17, 5.4, 3.9, 1.3, 0.4, 'Iris-setosa')\n",
      "(18, 5.1, 3.5, 1.4, 0.3, 'Iris-setosa')\n",
      "(19, 5.7, 3.8, 1.7, 0.3, 'Iris-setosa')\n",
      "(20, 5.1, 3.8, 1.5, 0.3, 'Iris-setosa')\n",
      "(21, 5.4, 3.4, 1.7, 0.2, 'Iris-setosa')\n",
      "(22, 5.1, 3.7, 1.5, 0.4, 'Iris-setosa')\n",
      "(23, 4.6, 3.6, 1.0, 0.2, 'Iris-setosa')\n",
      "(24, 5.1, 3.3, 1.7, 0.5, 'Iris-setosa')\n",
      "(25, 4.8, 3.4, 1.9, 0.2, 'Iris-setosa')\n",
      "(26, 5.0, 3.0, 1.6, 0.2, 'Iris-setosa')\n",
      "(27, 5.0, 3.4, 1.6, 0.4, 'Iris-setosa')\n",
      "(28, 5.2, 3.5, 1.5, 0.2, 'Iris-setosa')\n",
      "(29, 5.2, 3.4, 1.4, 0.2, 'Iris-setosa')\n",
      "(30, 4.7, 3.2, 1.6, 0.2, 'Iris-setosa')\n",
      "(31, 4.8, 3.1, 1.6, 0.2, 'Iris-setosa')\n",
      "(32, 5.4, 3.4, 1.5, 0.4, 'Iris-setosa')\n",
      "(33, 5.2, 4.1, 1.5, 0.1, 'Iris-setosa')\n",
      "(34, 5.5, 4.2, 1.4, 0.2, 'Iris-setosa')\n",
      "(35, 4.9, 3.1, 1.5, 0.1, 'Iris-setosa')\n",
      "(36, 5.0, 3.2, 1.2, 0.2, 'Iris-setosa')\n",
      "(37, 5.5, 3.5, 1.3, 0.2, 'Iris-setosa')\n",
      "(38, 4.9, 3.1, 1.5, 0.1, 'Iris-setosa')\n",
      "(39, 4.4, 3.0, 1.3, 0.2, 'Iris-setosa')\n",
      "(40, 5.1, 3.4, 1.5, 0.2, 'Iris-setosa')\n",
      "(41, 5.0, 3.5, 1.3, 0.3, 'Iris-setosa')\n",
      "(42, 4.5, 2.3, 1.3, 0.3, 'Iris-setosa')\n",
      "(43, 4.4, 3.2, 1.3, 0.2, 'Iris-setosa')\n",
      "(44, 5.0, 3.5, 1.6, 0.6, 'Iris-setosa')\n",
      "(45, 5.1, 3.8, 1.9, 0.4, 'Iris-setosa')\n",
      "(46, 4.8, 3.0, 1.4, 0.3, 'Iris-setosa')\n",
      "(47, 5.1, 3.8, 1.6, 0.2, 'Iris-setosa')\n",
      "(48, 4.6, 3.2, 1.4, 0.2, 'Iris-setosa')\n",
      "(49, 5.3, 3.7, 1.5, 0.2, 'Iris-setosa')\n",
      "(50, 5.0, 3.3, 1.4, 0.2, 'Iris-setosa')\n",
      "(151, 5.1, 3.5, 1.4, 0.2, 'Iris-setosa')\n",
      "(152, 4.9, 3.0, 1.4, 0.2, 'Iris-setosa')\n",
      "(153, 4.7, 3.2, 1.3, 0.2, 'Iris-setosa')\n",
      "(154, 4.6, 3.1, 1.5, 0.2, 'Iris-setosa')\n",
      "(155, 5.0, 3.6, 1.4, 0.2, 'Iris-setosa')\n",
      "(156, 5.4, 3.9, 1.7, 0.4, 'Iris-setosa')\n",
      "(157, 4.6, 3.4, 1.4, 0.3, 'Iris-setosa')\n",
      "(158, 5.0, 3.4, 1.5, 0.2, 'Iris-setosa')\n",
      "(159, 4.4, 2.9, 1.4, 0.2, 'Iris-setosa')\n",
      "(160, 4.9, 3.1, 1.5, 0.1, 'Iris-setosa')\n",
      "(161, 5.4, 3.7, 1.5, 0.2, 'Iris-setosa')\n",
      "(162, 4.8, 3.4, 1.6, 0.2, 'Iris-setosa')\n",
      "(163, 4.8, 3.0, 1.4, 0.1, 'Iris-setosa')\n",
      "(164, 4.3, 3.0, 1.1, 0.1, 'Iris-setosa')\n",
      "(165, 5.8, 4.0, 1.2, 0.2, 'Iris-setosa')\n",
      "(166, 5.7, 4.4, 1.5, 0.4, 'Iris-setosa')\n",
      "(167, 5.4, 3.9, 1.3, 0.4, 'Iris-setosa')\n",
      "(168, 5.1, 3.5, 1.4, 0.3, 'Iris-setosa')\n",
      "(169, 5.7, 3.8, 1.7, 0.3, 'Iris-setosa')\n",
      "(170, 5.1, 3.8, 1.5, 0.3, 'Iris-setosa')\n",
      "(171, 5.4, 3.4, 1.7, 0.2, 'Iris-setosa')\n",
      "(172, 5.1, 3.7, 1.5, 0.4, 'Iris-setosa')\n",
      "(173, 4.6, 3.6, 1.0, 0.2, 'Iris-setosa')\n",
      "(174, 5.1, 3.3, 1.7, 0.5, 'Iris-setosa')\n",
      "(175, 4.8, 3.4, 1.9, 0.2, 'Iris-setosa')\n",
      "(176, 5.0, 3.0, 1.6, 0.2, 'Iris-setosa')\n",
      "(177, 5.0, 3.4, 1.6, 0.4, 'Iris-setosa')\n",
      "(178, 5.2, 3.5, 1.5, 0.2, 'Iris-setosa')\n",
      "(179, 5.2, 3.4, 1.4, 0.2, 'Iris-setosa')\n",
      "(180, 4.7, 3.2, 1.6, 0.2, 'Iris-setosa')\n",
      "(181, 4.8, 3.1, 1.6, 0.2, 'Iris-setosa')\n",
      "(182, 5.4, 3.4, 1.5, 0.4, 'Iris-setosa')\n",
      "(183, 5.2, 4.1, 1.5, 0.1, 'Iris-setosa')\n",
      "(184, 5.5, 4.2, 1.4, 0.2, 'Iris-setosa')\n",
      "(185, 4.9, 3.1, 1.5, 0.1, 'Iris-setosa')\n",
      "(186, 5.0, 3.2, 1.2, 0.2, 'Iris-setosa')\n",
      "(187, 5.5, 3.5, 1.3, 0.2, 'Iris-setosa')\n",
      "(188, 4.9, 3.1, 1.5, 0.1, 'Iris-setosa')\n",
      "(189, 4.4, 3.0, 1.3, 0.2, 'Iris-setosa')\n",
      "(190, 5.1, 3.4, 1.5, 0.2, 'Iris-setosa')\n",
      "(191, 5.0, 3.5, 1.3, 0.3, 'Iris-setosa')\n",
      "(192, 4.5, 2.3, 1.3, 0.3, 'Iris-setosa')\n",
      "(193, 4.4, 3.2, 1.3, 0.2, 'Iris-setosa')\n",
      "(194, 5.0, 3.5, 1.6, 0.6, 'Iris-setosa')\n",
      "(195, 5.1, 3.8, 1.9, 0.4, 'Iris-setosa')\n",
      "(196, 4.8, 3.0, 1.4, 0.3, 'Iris-setosa')\n",
      "(197, 5.1, 3.8, 1.6, 0.2, 'Iris-setosa')\n",
      "(198, 4.6, 3.2, 1.4, 0.2, 'Iris-setosa')\n",
      "(199, 5.3, 3.7, 1.5, 0.2, 'Iris-setosa')\n",
      "(200, 5.0, 3.3, 1.4, 0.2, 'Iris-setosa')\n",
      "(301, 5.1, 3.5, 1.4, 0.2, 'Iris-setosa')\n",
      "(302, 4.9, 3.0, 1.4, 0.2, 'Iris-setosa')\n",
      "(303, 4.7, 3.2, 1.3, 0.2, 'Iris-setosa')\n",
      "(304, 4.6, 3.1, 1.5, 0.2, 'Iris-setosa')\n",
      "(305, 5.0, 3.6, 1.4, 0.2, 'Iris-setosa')\n",
      "(306, 5.4, 3.9, 1.7, 0.4, 'Iris-setosa')\n",
      "(307, 4.6, 3.4, 1.4, 0.3, 'Iris-setosa')\n",
      "(308, 5.0, 3.4, 1.5, 0.2, 'Iris-setosa')\n",
      "(309, 4.4, 2.9, 1.4, 0.2, 'Iris-setosa')\n",
      "(310, 4.9, 3.1, 1.5, 0.1, 'Iris-setosa')\n",
      "(311, 5.4, 3.7, 1.5, 0.2, 'Iris-setosa')\n",
      "(312, 4.8, 3.4, 1.6, 0.2, 'Iris-setosa')\n",
      "(313, 4.8, 3.0, 1.4, 0.1, 'Iris-setosa')\n",
      "(314, 4.3, 3.0, 1.1, 0.1, 'Iris-setosa')\n",
      "(315, 5.8, 4.0, 1.2, 0.2, 'Iris-setosa')\n",
      "(316, 5.7, 4.4, 1.5, 0.4, 'Iris-setosa')\n",
      "(317, 5.4, 3.9, 1.3, 0.4, 'Iris-setosa')\n",
      "(318, 5.1, 3.5, 1.4, 0.3, 'Iris-setosa')\n",
      "(319, 5.7, 3.8, 1.7, 0.3, 'Iris-setosa')\n",
      "(320, 5.1, 3.8, 1.5, 0.3, 'Iris-setosa')\n",
      "(321, 5.4, 3.4, 1.7, 0.2, 'Iris-setosa')\n",
      "(322, 5.1, 3.7, 1.5, 0.4, 'Iris-setosa')\n",
      "(323, 4.6, 3.6, 1.0, 0.2, 'Iris-setosa')\n",
      "(324, 5.1, 3.3, 1.7, 0.5, 'Iris-setosa')\n",
      "(325, 4.8, 3.4, 1.9, 0.2, 'Iris-setosa')\n",
      "(326, 5.0, 3.0, 1.6, 0.2, 'Iris-setosa')\n",
      "(327, 5.0, 3.4, 1.6, 0.4, 'Iris-setosa')\n",
      "(328, 5.2, 3.5, 1.5, 0.2, 'Iris-setosa')\n",
      "(329, 5.2, 3.4, 1.4, 0.2, 'Iris-setosa')\n",
      "(330, 4.7, 3.2, 1.6, 0.2, 'Iris-setosa')\n",
      "(331, 4.8, 3.1, 1.6, 0.2, 'Iris-setosa')\n",
      "(332, 5.4, 3.4, 1.5, 0.4, 'Iris-setosa')\n",
      "(333, 5.2, 4.1, 1.5, 0.1, 'Iris-setosa')\n",
      "(334, 5.5, 4.2, 1.4, 0.2, 'Iris-setosa')\n",
      "(335, 4.9, 3.1, 1.5, 0.1, 'Iris-setosa')\n",
      "(336, 5.0, 3.2, 1.2, 0.2, 'Iris-setosa')\n",
      "(337, 5.5, 3.5, 1.3, 0.2, 'Iris-setosa')\n",
      "(338, 4.9, 3.1, 1.5, 0.1, 'Iris-setosa')\n",
      "(339, 4.4, 3.0, 1.3, 0.2, 'Iris-setosa')\n",
      "(340, 5.1, 3.4, 1.5, 0.2, 'Iris-setosa')\n",
      "(341, 5.0, 3.5, 1.3, 0.3, 'Iris-setosa')\n",
      "(342, 4.5, 2.3, 1.3, 0.3, 'Iris-setosa')\n",
      "(343, 4.4, 3.2, 1.3, 0.2, 'Iris-setosa')\n",
      "(344, 5.0, 3.5, 1.6, 0.6, 'Iris-setosa')\n",
      "(345, 5.1, 3.8, 1.9, 0.4, 'Iris-setosa')\n",
      "(346, 4.8, 3.0, 1.4, 0.3, 'Iris-setosa')\n",
      "(347, 5.1, 3.8, 1.6, 0.2, 'Iris-setosa')\n",
      "(348, 4.6, 3.2, 1.4, 0.2, 'Iris-setosa')\n",
      "(349, 5.3, 3.7, 1.5, 0.2, 'Iris-setosa')\n",
      "(350, 5.0, 3.3, 1.4, 0.2, 'Iris-setosa')\n",
      "(451, 5.1, 3.5, 1.4, 0.2, 'Iris-setosa')\n",
      "(452, 4.9, 3.0, 1.4, 0.2, 'Iris-setosa')\n",
      "(453, 4.7, 3.2, 1.3, 0.2, 'Iris-setosa')\n",
      "(454, 4.6, 3.1, 1.5, 0.2, 'Iris-setosa')\n",
      "(455, 5.0, 3.6, 1.4, 0.2, 'Iris-setosa')\n",
      "(456, 5.4, 3.9, 1.7, 0.4, 'Iris-setosa')\n",
      "(457, 4.6, 3.4, 1.4, 0.3, 'Iris-setosa')\n",
      "(458, 5.0, 3.4, 1.5, 0.2, 'Iris-setosa')\n",
      "(459, 4.4, 2.9, 1.4, 0.2, 'Iris-setosa')\n",
      "(460, 4.9, 3.1, 1.5, 0.1, 'Iris-setosa')\n",
      "(461, 5.4, 3.7, 1.5, 0.2, 'Iris-setosa')\n",
      "(462, 4.8, 3.4, 1.6, 0.2, 'Iris-setosa')\n",
      "(463, 4.8, 3.0, 1.4, 0.1, 'Iris-setosa')\n",
      "(464, 4.3, 3.0, 1.1, 0.1, 'Iris-setosa')\n",
      "(465, 5.8, 4.0, 1.2, 0.2, 'Iris-setosa')\n",
      "(466, 5.7, 4.4, 1.5, 0.4, 'Iris-setosa')\n",
      "(467, 5.4, 3.9, 1.3, 0.4, 'Iris-setosa')\n",
      "(468, 5.1, 3.5, 1.4, 0.3, 'Iris-setosa')\n",
      "(469, 5.7, 3.8, 1.7, 0.3, 'Iris-setosa')\n",
      "(470, 5.1, 3.8, 1.5, 0.3, 'Iris-setosa')\n",
      "(471, 5.4, 3.4, 1.7, 0.2, 'Iris-setosa')\n",
      "(472, 5.1, 3.7, 1.5, 0.4, 'Iris-setosa')\n",
      "(473, 4.6, 3.6, 1.0, 0.2, 'Iris-setosa')\n",
      "(474, 5.1, 3.3, 1.7, 0.5, 'Iris-setosa')\n",
      "(475, 4.8, 3.4, 1.9, 0.2, 'Iris-setosa')\n",
      "(476, 5.0, 3.0, 1.6, 0.2, 'Iris-setosa')\n",
      "(477, 5.0, 3.4, 1.6, 0.4, 'Iris-setosa')\n",
      "(478, 5.2, 3.5, 1.5, 0.2, 'Iris-setosa')\n",
      "(479, 5.2, 3.4, 1.4, 0.2, 'Iris-setosa')\n",
      "(480, 4.7, 3.2, 1.6, 0.2, 'Iris-setosa')\n",
      "(481, 4.8, 3.1, 1.6, 0.2, 'Iris-setosa')\n",
      "(482, 5.4, 3.4, 1.5, 0.4, 'Iris-setosa')\n",
      "(483, 5.2, 4.1, 1.5, 0.1, 'Iris-setosa')\n",
      "(484, 5.5, 4.2, 1.4, 0.2, 'Iris-setosa')\n",
      "(485, 4.9, 3.1, 1.5, 0.1, 'Iris-setosa')\n",
      "(486, 5.0, 3.2, 1.2, 0.2, 'Iris-setosa')\n",
      "(487, 5.5, 3.5, 1.3, 0.2, 'Iris-setosa')\n",
      "(488, 4.9, 3.1, 1.5, 0.1, 'Iris-setosa')\n",
      "(489, 4.4, 3.0, 1.3, 0.2, 'Iris-setosa')\n",
      "(490, 5.1, 3.4, 1.5, 0.2, 'Iris-setosa')\n",
      "(491, 5.0, 3.5, 1.3, 0.3, 'Iris-setosa')\n",
      "(492, 4.5, 2.3, 1.3, 0.3, 'Iris-setosa')\n",
      "(493, 4.4, 3.2, 1.3, 0.2, 'Iris-setosa')\n",
      "(494, 5.0, 3.5, 1.6, 0.6, 'Iris-setosa')\n",
      "(495, 5.1, 3.8, 1.9, 0.4, 'Iris-setosa')\n",
      "(496, 4.8, 3.0, 1.4, 0.3, 'Iris-setosa')\n",
      "(497, 5.1, 3.8, 1.6, 0.2, 'Iris-setosa')\n",
      "(498, 4.6, 3.2, 1.4, 0.2, 'Iris-setosa')\n",
      "(499, 5.3, 3.7, 1.5, 0.2, 'Iris-setosa')\n",
      "(500, 5.0, 3.3, 1.4, 0.2, 'Iris-setosa')\n"
     ]
    }
   ],
   "source": [
    "for row in data:\n",
    "    print(row)"
   ]
  },
  {
   "cell_type": "code",
   "execution_count": 58,
   "metadata": {},
   "outputs": [],
   "source": [
    "cursor.close()\n",
    "conn.close()"
   ]
  },
  {
   "cell_type": "code",
   "execution_count": null,
   "metadata": {},
   "outputs": [],
   "source": []
  }
 ],
 "metadata": {
  "kernelspec": {
   "display_name": "human-da-env",
   "language": "python",
   "name": "python3"
  },
  "language_info": {
   "codemirror_mode": {
    "name": "ipython",
    "version": 3
   },
   "file_extension": ".py",
   "mimetype": "text/x-python",
   "name": "python",
   "nbconvert_exporter": "python",
   "pygments_lexer": "ipython3",
   "version": "3.12.7"
  }
 },
 "nbformat": 4,
 "nbformat_minor": 2
}

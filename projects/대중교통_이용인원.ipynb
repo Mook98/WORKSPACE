{
 "cells": [
  {
   "cell_type": "code",
   "execution_count": 1,
   "metadata": {},
   "outputs": [
    {
     "name": "stderr",
     "output_type": "stream",
     "text": [
      "<>:2: SyntaxWarning: invalid escape sequence '\\W'\n",
      "<>:2: SyntaxWarning: invalid escape sequence '\\W'\n",
      "C:\\Users\\human\\AppData\\Local\\Temp\\ipykernel_9600\\3983256537.py:2: SyntaxWarning: invalid escape sequence '\\W'\n",
      "  df = pd.read_csv('C:\\WORKSPACE\\projects\\서울시 대중교통 이용패턴 정보.csv', encoding='cp949')\n"
     ]
    }
   ],
   "source": [
    "import pandas as pd\n",
    "df = pd.read_csv('C:\\WORKSPACE\\projects\\서울시 대중교통 이용패턴 정보.csv', encoding='cp949')"
   ]
  },
  {
   "cell_type": "code",
   "execution_count": 2,
   "metadata": {},
   "outputs": [
    {
     "name": "stdout",
     "output_type": "stream",
     "text": [
      "           기준_날짜                                     목적통행_패턴  총_승객수  총_승객수_일반  \\\n",
      "0       20241023  ①[지하철] → ②[지하철] → ③[지하철] → ④[지하철] → ⑤[지하철]      1       1.0   \n",
      "1       20241023           ①[지하철] → ②[지하철] → ③[지하철] → ④[지하철]     18      17.0   \n",
      "2       20241023   ①[지하철] → ②[지하철] → ③[지하철] → ④[버스] → ⑤[지하철]      1       1.0   \n",
      "3       20241023    ①[지하철] → ②[지하철] → ③[지하철] → ④[버스] → ⑤[버스]      2       2.0   \n",
      "4       20241023            ①[지하철] → ②[지하철] → ③[지하철] → ④[버스]     27      27.0   \n",
      "...          ...                                         ...    ...       ...   \n",
      "213369  20211130  ①[지하철] → ②[버스] → ③[지하철] → ④[경기버스] → ⑤[지하철]     16      15.0   \n",
      "213370  20211130   ①[버스] → ②[지하철] → ③[경기버스] → ④[지하철] → ⑤[버스]     32      31.0   \n",
      "213371  20211130      ①[버스] → ②[버스] → ③[버스] → ④[버스] → ⑤[지하철]    230     220.0   \n",
      "213372  20211130   ①[버스] → ②[경기버스] → ③[지하철] → ④[버스] → ⑤[지하철]      4       4.0   \n",
      "213373  20211130    ①[지하철] → ②[버스] → ③[지하철] → ④[버스] → ⑤[지하철]    146     145.0   \n",
      "\n",
      "        총_승객수_어린이  총_승객수_청소년  총_승객수_경로  총_승객수_장애인  \n",
      "0             NaN        NaN       NaN        NaN  \n",
      "1             NaN        1.0       NaN        NaN  \n",
      "2             NaN        NaN       NaN        NaN  \n",
      "3             NaN        NaN       NaN        NaN  \n",
      "4             NaN        NaN       NaN        NaN  \n",
      "...           ...        ...       ...        ...  \n",
      "213369        NaN        1.0       NaN        NaN  \n",
      "213370        NaN        1.0       NaN        NaN  \n",
      "213371        1.0        9.0       NaN        NaN  \n",
      "213372        NaN        NaN       NaN        NaN  \n",
      "213373        NaN        1.0       NaN        NaN  \n",
      "\n",
      "[213374 rows x 8 columns]\n"
     ]
    }
   ],
   "source": [
    "print(df)"
   ]
  },
  {
   "cell_type": "code",
   "execution_count": 3,
   "metadata": {},
   "outputs": [
    {
     "name": "stdout",
     "output_type": "stream",
     "text": [
      "<class 'pandas.core.frame.DataFrame'>\n",
      "RangeIndex: 213374 entries, 0 to 213373\n",
      "Data columns (total 8 columns):\n",
      " #   Column     Non-Null Count   Dtype  \n",
      "---  ------     --------------   -----  \n",
      " 0   기준_날짜      213374 non-null  int64  \n",
      " 1   목적통행_패턴    213322 non-null  object \n",
      " 2   총_승객수      213374 non-null  int64  \n",
      " 3   총_승객수_일반   211861 non-null  float64\n",
      " 4   총_승객수_어린이  94532 non-null   float64\n",
      " 5   총_승객수_청소년  126949 non-null  float64\n",
      " 6   총_승객수_경로   32972 non-null   float64\n",
      " 7   총_승객수_장애인  28933 non-null   float64\n",
      "dtypes: float64(5), int64(2), object(1)\n",
      "memory usage: 13.0+ MB\n"
     ]
    }
   ],
   "source": [
    "df.info()"
   ]
  },
  {
   "cell_type": "code",
   "execution_count": 4,
   "metadata": {},
   "outputs": [],
   "source": [
    "df['목적통행_패턴'] = df['목적통행_패턴'].str.replace(r'[^가-힣]', '', regex=True).str.replace(' ', '')\n",
    "df['기준_날짜'] = pd.to_datetime(df['기준_날짜'], format='%Y%m%d')"
   ]
  },
  {
   "cell_type": "code",
   "execution_count": 5,
   "metadata": {},
   "outputs": [],
   "source": [
    "df_1 = df[['기준_날짜', '목적통행_패턴', '총_승객수']]\n",
    "\n",
    "\n",
    "bus_only_df = df_1[df_1['목적통행_패턴'] == \"버스\"]\n",
    "train_only_df = df_1[df_1['목적통행_패턴'] == \"지하철\"]"
   ]
  },
  {
   "cell_type": "code",
   "execution_count": 6,
   "metadata": {},
   "outputs": [
    {
     "name": "stdout",
     "output_type": "stream",
     "text": [
      "<class 'pandas.core.frame.DataFrame'>\n",
      "Index: 1023 entries, 143 to 213216\n",
      "Data columns (total 3 columns):\n",
      " #   Column   Non-Null Count  Dtype         \n",
      "---  ------   --------------  -----         \n",
      " 0   기준_날짜    1023 non-null   datetime64[ns]\n",
      " 1   목적통행_패턴  1023 non-null   object        \n",
      " 2   총_승객수    1023 non-null   int64         \n",
      "dtypes: datetime64[ns](1), int64(1), object(1)\n",
      "memory usage: 32.0+ KB\n"
     ]
    }
   ],
   "source": [
    "bus_only_df.info()"
   ]
  },
  {
   "cell_type": "code",
   "execution_count": 7,
   "metadata": {},
   "outputs": [
    {
     "name": "stdout",
     "output_type": "stream",
     "text": [
      "<class 'pandas.core.frame.DataFrame'>\n",
      "Index: 1023 entries, 69 to 213215\n",
      "Data columns (total 3 columns):\n",
      " #   Column   Non-Null Count  Dtype         \n",
      "---  ------   --------------  -----         \n",
      " 0   기준_날짜    1023 non-null   datetime64[ns]\n",
      " 1   목적통행_패턴  1023 non-null   object        \n",
      " 2   총_승객수    1023 non-null   int64         \n",
      "dtypes: datetime64[ns](1), int64(1), object(1)\n",
      "memory usage: 32.0+ KB\n"
     ]
    }
   ],
   "source": [
    "train_only_df.info()"
   ]
  },
  {
   "cell_type": "code",
   "execution_count": 8,
   "metadata": {},
   "outputs": [
    {
     "name": "stdout",
     "output_type": "stream",
     "text": [
      "            기준_날짜 목적통행_패턴    총_승객수\n",
      "143    2024-10-23      버스  2419117\n",
      "362    2024-10-22      버스  2336455\n",
      "589    2024-10-21      버스  2362593\n",
      "803    2024-10-20      버스  1689445\n",
      "1027   2024-10-19      버스  2081764\n",
      "...           ...     ...      ...\n",
      "212594 2022-01-02      버스  1097581\n",
      "212616 2022-01-01      버스   988930\n",
      "212975 2021-12-31      버스  1914226\n",
      "213174 2021-12-30      버스  1971191\n",
      "213216 2021-11-30      버스  1986177\n",
      "\n",
      "[1023 rows x 3 columns]\n"
     ]
    }
   ],
   "source": [
    "print(bus_only_df)"
   ]
  },
  {
   "cell_type": "code",
   "execution_count": 9,
   "metadata": {},
   "outputs": [
    {
     "name": "stdout",
     "output_type": "stream",
     "text": [
      "            기준_날짜 목적통행_패턴    총_승객수\n",
      "69     2024-10-23     지하철  5033011\n",
      "287    2024-10-22     지하철  4788389\n",
      "513    2024-10-21     지하철  4865770\n",
      "729    2024-10-20     지하철  2996679\n",
      "951    2024-10-19     지하철  3914226\n",
      "...           ...     ...      ...\n",
      "212595 2022-01-02     지하철  1812506\n",
      "212615 2022-01-01     지하철  1569829\n",
      "212974 2021-12-31     지하철  3713836\n",
      "213173 2021-12-30     지하철  4005389\n",
      "213215 2021-11-30     지하철  3968905\n",
      "\n",
      "[1023 rows x 3 columns]\n"
     ]
    }
   ],
   "source": [
    "print(train_only_df)"
   ]
  },
  {
   "cell_type": "code",
   "execution_count": null,
   "metadata": {},
   "outputs": [],
   "source": []
  }
 ],
 "metadata": {
  "kernelspec": {
   "display_name": "human-da-env",
   "language": "python",
   "name": "python3"
  },
  "language_info": {
   "codemirror_mode": {
    "name": "ipython",
    "version": 3
   },
   "file_extension": ".py",
   "mimetype": "text/x-python",
   "name": "python",
   "nbconvert_exporter": "python",
   "pygments_lexer": "ipython3",
   "version": "3.12.7"
  }
 },
 "nbformat": 4,
 "nbformat_minor": 2
}

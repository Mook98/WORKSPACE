{
 "cells": [
  {
   "cell_type": "code",
   "execution_count": 13,
   "metadata": {},
   "outputs": [],
   "source": [
    "import datetime\n",
    "import pandas as pd\n",
    "import numpy as np\n",
    "import pymysql"
   ]
  },
  {
   "cell_type": "code",
   "execution_count": null,
   "metadata": {},
   "outputs": [],
   "source": [
    "# 공휴일 데이터 불러오기\n",
    "df_holiday = pd.read_csv(\"D:/WORKSPACE/projects/hd_21_24.csv\")"
   ]
  },
  {
   "cell_type": "code",
   "execution_count": 7,
   "metadata": {},
   "outputs": [
    {
     "name": "stdout",
     "output_type": "stream",
     "text": [
      "           일시 dateName\n",
      "0  2021-01-01     1월1일\n",
      "1  2021-02-11       설날\n",
      "2  2021-02-12       설날\n",
      "3  2021-02-13       설날\n",
      "4  2021-03-01      삼일절\n",
      "5  2021-05-05     어린이날\n",
      "6  2021-05-19   부처님오신날\n",
      "7  2021-06-06      현충일\n",
      "8  2021-08-15      광복절\n",
      "9  2021-09-21       추석\n",
      "<class 'pandas.core.frame.DataFrame'>\n",
      "RangeIndex: 66 entries, 0 to 65\n",
      "Data columns (total 2 columns):\n",
      " #   Column    Non-Null Count  Dtype \n",
      "---  ------    --------------  ----- \n",
      " 0   일시        66 non-null     object\n",
      " 1   dateName  66 non-null     object\n",
      "dtypes: object(2)\n",
      "memory usage: 1.2+ KB\n",
      "None\n"
     ]
    }
   ],
   "source": [
    "# 데이터 확인\n",
    "print(df_holiday.head(10))\n",
    "print(df_holiday.info())"
   ]
  },
  {
   "cell_type": "code",
   "execution_count": 8,
   "metadata": {},
   "outputs": [],
   "source": [
    "# 공휴일 데이터의 일시를 날짜 데이터로 변경\n",
    "df_holiday['일시'] = pd.to_datetime(df_holiday['일시'])"
   ]
  },
  {
   "cell_type": "code",
   "execution_count": 9,
   "metadata": {},
   "outputs": [],
   "source": [
    "# 날짜 데이터 생성(2022-01-01 ~ 2024-10-31 )\n",
    "date_range = pd.date_range(start='2022-01-01', end='2024-10-31', freq='D')"
   ]
  },
  {
   "cell_type": "code",
   "execution_count": 10,
   "metadata": {},
   "outputs": [],
   "source": [
    "# 데이터프레임으로 저장\n",
    "df_dates = pd.DataFrame(date_range, columns=['date'])"
   ]
  },
  {
   "cell_type": "code",
   "execution_count": 11,
   "metadata": {},
   "outputs": [],
   "source": [
    "# 날짜 데이터에 공휴일이거나 주말이면 1 아니면 0이라는 컬럼 추가\n",
    "df_dates['holiday_or_weekend'] = df_dates['date'].apply(\n",
    "    lambda x: 1 if (x.dayofweek >= 5 or x in df_holiday['일시'].values) else 0\n",
    ")"
   ]
  },
  {
   "cell_type": "code",
   "execution_count": 12,
   "metadata": {},
   "outputs": [
    {
     "name": "stdout",
     "output_type": "stream",
     "text": [
      "        date  holiday_or_weekend\n",
      "0 2022-01-01                   1\n",
      "1 2022-01-02                   1\n",
      "2 2022-01-03                   0\n",
      "3 2022-01-04                   0\n",
      "4 2022-01-05                   0\n",
      "5 2022-01-06                   0\n",
      "6 2022-01-07                   0\n",
      "7 2022-01-08                   1\n",
      "8 2022-01-09                   1\n",
      "9 2022-01-10                   0\n",
      "<class 'pandas.core.frame.DataFrame'>\n",
      "RangeIndex: 1035 entries, 0 to 1034\n",
      "Data columns (total 2 columns):\n",
      " #   Column              Non-Null Count  Dtype         \n",
      "---  ------              --------------  -----         \n",
      " 0   date                1035 non-null   datetime64[ns]\n",
      " 1   holiday_or_weekend  1035 non-null   int64         \n",
      "dtypes: datetime64[ns](1), int64(1)\n",
      "memory usage: 16.3 KB\n",
      "None\n"
     ]
    }
   ],
   "source": [
    "# 확인\n",
    "print(df_dates.head(10))\n",
    "print(df_dates.info())"
   ]
  },
  {
   "cell_type": "code",
   "execution_count": null,
   "metadata": {},
   "outputs": [],
   "source": [
    "# db 연결\n",
    "conn = pymysql.connect(host=\"localhost\", port=3306, db=\"project\", \n",
    "                       user=\"humanda\", password=\"humanda\")"
   ]
  },
  {
   "cell_type": "code",
   "execution_count": 15,
   "metadata": {},
   "outputs": [],
   "source": [
    "# 명령 도구 준비\n",
    "cursor = conn.cursor()"
   ]
  },
  {
   "cell_type": "code",
   "execution_count": null,
   "metadata": {},
   "outputs": [],
   "source": [
    "# 명령 실행 (테이블 생성)\n",
    "sql = \"\"\"create table date\n",
    "         (\n",
    "            ID INT AUTO_INCREMENT PRIMARY KEY,         \n",
    "            date date,\n",
    "            transportation_mode varchar(50),\n",
    "            total_passenger int,\n",
    "            general_passenger int,\n",
    "            child_passenger int,\n",
    "            youth_passenger int,\n",
    "            disabled_passenger int,\n",
    "            elderly_passenger int\n",
    "         )\"\"\"\n",
    "cursor.execute(sql)"
   ]
  }
 ],
 "metadata": {
  "kernelspec": {
   "display_name": "human-da-env",
   "language": "python",
   "name": "python3"
  },
  "language_info": {
   "codemirror_mode": {
    "name": "ipython",
    "version": 3
   },
   "file_extension": ".py",
   "mimetype": "text/x-python",
   "name": "python",
   "nbconvert_exporter": "python",
   "pygments_lexer": "ipython3",
   "version": "3.12.7"
  }
 },
 "nbformat": 4,
 "nbformat_minor": 2
}

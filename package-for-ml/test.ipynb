{
 "cells": [
  {
   "cell_type": "code",
   "execution_count": 179,
   "metadata": {},
   "outputs": [],
   "source": [
    "import numpy as np"
   ]
  },
  {
   "cell_type": "code",
   "execution_count": 180,
   "metadata": {},
   "outputs": [],
   "source": [
    "weather = pd.read_csv(\"C:/WORKSPACE/db/data-files/weather_data.csv\")"
   ]
  },
  {
   "cell_type": "code",
   "execution_count": 181,
   "metadata": {},
   "outputs": [
    {
     "name": "stdout",
     "output_type": "stream",
     "text": [
      "<class 'pandas.core.frame.DataFrame'>\n",
      "RangeIndex: 42016 entries, 0 to 42015\n",
      "Data columns (total 9 columns):\n",
      " #   Column   Non-Null Count  Dtype  \n",
      "---  ------   --------------  -----  \n",
      " 0   지점번호     42016 non-null  int64  \n",
      " 1   지점명      42016 non-null  object \n",
      " 2   일시       42016 non-null  object \n",
      " 3   평균기온(℃)  41260 non-null  float64\n",
      " 4   최고기온(℃)  41257 non-null  float64\n",
      " 5   최고기온시각   29182 non-null  object \n",
      " 6   최저기온(℃)  41257 non-null  float64\n",
      " 7   최저기온시각   29172 non-null  object \n",
      " 8   일교차      41256 non-null  float64\n",
      "dtypes: float64(4), int64(1), object(4)\n",
      "memory usage: 2.9+ MB\n"
     ]
    }
   ],
   "source": [
    "weather.info()"
   ]
  },
  {
   "cell_type": "code",
   "execution_count": 182,
   "metadata": {},
   "outputs": [],
   "source": [
    "weather['일시'] = pd.to_datetime(weather['일시'])"
   ]
  },
  {
   "cell_type": "code",
   "execution_count": 183,
   "metadata": {},
   "outputs": [
    {
     "data": {
      "text/plain": [
       "지점번호           0\n",
       "지점명            0\n",
       "일시             0\n",
       "평균기온(℃)      756\n",
       "최고기온(℃)      759\n",
       "최고기온시각     12834\n",
       "최저기온(℃)      759\n",
       "최저기온시각     12844\n",
       "일교차          760\n",
       "dtype: int64"
      ]
     },
     "execution_count": 183,
     "metadata": {},
     "output_type": "execute_result"
    }
   ],
   "source": [
    "weather.isnull().sum()"
   ]
  },
  {
   "cell_type": "code",
   "execution_count": 184,
   "metadata": {},
   "outputs": [
    {
     "name": "stdout",
     "output_type": "stream",
     "text": [
      "       지점번호 지점명         일시  평균기온(℃)  최고기온(℃) 최고기온시각  최저기온(℃) 최저기온시각   일교차\n",
      "0       108  서울 1907-10-01     13.5     20.7    NaN      7.9    NaN  12.8\n",
      "1       108  서울 1907-10-02     16.2     22.0    NaN      7.9    NaN  14.1\n",
      "2       108  서울 1907-10-03     16.2     21.3    NaN     13.1    NaN   8.2\n",
      "3       108  서울 1907-10-04     16.5     22.0    NaN     11.2    NaN  10.8\n",
      "4       108  서울 1907-10-05     17.6     25.4    NaN     10.9    NaN  14.5\n",
      "...     ...  ..        ...      ...      ...    ...      ...    ...   ...\n",
      "42011   108  서울 2023-12-13      6.8     10.3  14:59      2.6  04:19   7.7\n",
      "42012   108  서울 2023-12-14      7.6      9.1  01:27      6.2  23:15   2.9\n",
      "42013   108  서울 2023-12-15      4.9      6.2  00:01      3.7  23:59   2.5\n",
      "42014   108  서울 2023-12-16     -4.1      3.8  00:01     -9.9  24:00  13.7\n",
      "42015   108  서울 2023-12-17     -9.8     -6.4  14:52    -12.4  07:58   6.0\n",
      "\n",
      "[42016 rows x 9 columns]\n"
     ]
    }
   ],
   "source": [
    "print(weather)"
   ]
  },
  {
   "cell_type": "code",
   "execution_count": 185,
   "metadata": {},
   "outputs": [],
   "source": [
    "weather_day = weather[['일시']].to_numpy()\n",
    "weather_temp = weather[['평균기온(℃)', '최고기온(℃)', '최저기온(℃)']].to_numpy()"
   ]
  },
  {
   "cell_type": "code",
   "execution_count": 186,
   "metadata": {},
   "outputs": [],
   "source": [
    "a = np.nanargmax(weather_temp[:, 1])\n",
    "b = np.nanargmin(weather_temp[:, 2])"
   ]
  },
  {
   "cell_type": "code",
   "execution_count": 187,
   "metadata": {},
   "outputs": [
    {
     "name": "stdout",
     "output_type": "stream",
     "text": [
      "[33.6 39.6 27.8]\n",
      "[-15.3  -6.4 -23.1]\n"
     ]
    }
   ],
   "source": [
    "print(weather_temp[a])\n",
    "print(weather_temp[b])"
   ]
  },
  {
   "cell_type": "code",
   "execution_count": 188,
   "metadata": {},
   "outputs": [],
   "source": [
    "sub = np.subtract(weather_temp[:,1], weather_temp[:,2])"
   ]
  },
  {
   "cell_type": "code",
   "execution_count": 189,
   "metadata": {},
   "outputs": [],
   "source": [
    "c = np.nanargmax(sub)"
   ]
  },
  {
   "cell_type": "code",
   "execution_count": 190,
   "metadata": {},
   "outputs": [
    {
     "name": "stdout",
     "output_type": "stream",
     "text": [
      "[12.7 24.3  2.5]\n"
     ]
    }
   ],
   "source": [
    "print(weather_temp[c])"
   ]
  },
  {
   "cell_type": "code",
   "execution_count": 191,
   "metadata": {},
   "outputs": [],
   "source": [
    "weather_mean = np.nanmean(weather_temp, axis = 0)"
   ]
  },
  {
   "cell_type": "code",
   "execution_count": 192,
   "metadata": {},
   "outputs": [
    {
     "name": "stdout",
     "output_type": "stream",
     "text": [
      "[11.79874455 16.80011634  7.51011465]\n"
     ]
    }
   ],
   "source": [
    "print(weather_mean)"
   ]
  },
  {
   "cell_type": "code",
   "execution_count": null,
   "metadata": {},
   "outputs": [],
   "source": []
  }
 ],
 "metadata": {
  "kernelspec": {
   "display_name": "human-da-env",
   "language": "python",
   "name": "python3"
  },
  "language_info": {
   "codemirror_mode": {
    "name": "ipython",
    "version": 3
   },
   "file_extension": ".py",
   "mimetype": "text/x-python",
   "name": "python",
   "nbconvert_exporter": "python",
   "pygments_lexer": "ipython3",
   "version": "3.12.7"
  }
 },
 "nbformat": 4,
 "nbformat_minor": 2
}
